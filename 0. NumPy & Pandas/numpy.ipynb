{
 "cells": [],
 "metadata": {
  "language_info": {
   "name": "python"
  }
 },
 "nbformat": 4,
 "nbformat_minor": 2
}
Introduktion til NumPy
Numpy er et Python-bibliotek til oprettelse og manipulation af matricer, den primære datastruktur, der bruges af maskinlæringsalgoritmer. Matricer er matematiske objekter, der bruges til at gemme værdier i rækker og kolonner. I kender dem nok fra mange andre sprog og strukturen i en SQL database. Derfor er det også nemt at få data fra en central SQL-database og bruge det til machinelearning.

I Python kaldes matricer lists, NumPy kalder dem arrays, og TensorFlow kalder dem tensors. Python repræsenterer matricer med datatypen liste.

NumPy er et stort bibliotek som bruges i flere grene, vi kommer ikke til at gå i dybden med NumPy, men vi skal have en grundlæggende forståelse for at kunne bruge det til resten af vores 10 dages ML kursus.

Mange af operationerne kender I nok fra andre sprog, men så har I også muligheden for at vende jer lidt til Python syntaxen

Import NumPy module
Vi skal installere NumPy modulet for at kunne bruge det senere


import numpy as np
     
Populate arrays with specific numbers
Skriv np.array for at lave en NumPy array, med værdi som du selv vælger. Her er et eksempel med np.array som laver en 8-elementer langt en dimensionelt array:


one_dimensional_array = np.array([1.2, 2.4, 3.5, 4.7, 6.1, 7.2, 8.3, 9.5])
print(one_dimensional_array)
     
[1.2 2.4 3.5 4.7 6.1 7.2 8.3 9.5]
Du kan også bruge np.array til at oprette en todimensionel matrix. For at oprette en todimensionel matrix skal du angive en ekstra lag af firkantede parenteser. For eksempel opretter følgende kald en 3x2 matrix:


two_dimensional_array = np.array([[6, 5], [11, 7], [4, 8]])
print(two_dimensional_array)
     
[[ 6  5]
 [11  7]
 [ 4  8]]
For at udfylde en matrix rene nuller, kald np.zeros. For at udfylde en matrix med rene ettere, kald np.ones.

Udfyld arrays med sekvenser af tal
Du kan udfylde et array med en sekvens af tal:


sequence_of_integers = np.arange(5, 12)
print(sequence_of_integers)
     
[ 5  6  7  8  9 10 11]
Bemærk, at np.arange genererer en sekvens, der inkluderer den nedre grænse (5), men ikke den øvre grænse (12). Altså [5,12)

Udfyld arrays med tilfældige tal
NumPy giver forskellige funktioner til at udfylde arrays med tilfældige tal inden for visse intervaller. For eksempel genererer np.random.randint tilfældige heltal mellem en lav og en høj værdi. Følgende kald udfylder et array med 6 elementer med tilfældige heltal mellem 50 og 100.


random_integers_between_50_and_100 = np.random.randint(low=50, high=101, size=(6))
print(random_integers_between_50_and_100)
     
[77 59 55 76 57 71]
Bemærk, at det højeste genererede heltal ved brug af np.random.randint er én mindre end argumentet high.

For at oprette tilfældige decimaltal mellem 0.0 og 1.0, kald np.random.random. For eksempel:


random_floats_between_0_and_1 = np.random.random([6])
print(random_floats_between_0_and_1)
     
[0.16625408 0.78073314 0.42463751 0.1086769  0.65990799 0.64937478]
Matematiske operationer på NumPy-operand
Hvis du ønsker at lægge to arrays sammen eller trække dem fra hinanden, kræver lineær algebra, at de to operander har de samme dimensioner. Derudover, hvis du ønsker at multiplicere to arrays, pålægger lineær algebra strenge regler for den dimensionelle kompatibilitet af operanderne. Heldigvis bruger NumPy en teknik kaldet broadcasting til at virtuelt udvide den mindre operand til dimensioner, der er kompatible med lineær algebra. For eksempel bruger følgende operation broadcasting til at tilføje 2.0 til værdien af hvert element i arrayet, der blev oprettet i den foregående kodecelle:


random_floats_between_2_and_3 = random_floats_between_0_and_1 + 2.0
print(random_floats_between_2_and_3)
     
[2.16625408 2.78073314 2.42463751 2.1086769  2.65990799 2.64937478]
Den følgende operation afhænger også af broadcasting for at multiplicere hvert element i et array med 3:


random_integers_between_150_and_300 = random_integers_between_50_and_100 * 3
print(random_integers_between_150_and_300)
     
[231 177 165 228 171 213]
Opgave 1: Opret et lineært datasæt
Dit mål er at oprette et simpelt datasæt bestående af en enkelt funktion (feature) og en etiket (label) som følger:

Tildel en sekvens af heltal fra 6 til 20 (inklusiv) til et NumPy-array kaldet feature.
Tildel 15 værdier til et NumPy-array kaldet label på følgende måde:
   label = (3)(feature) + 4
For eksempel skal den første værdi for label være:

  label = (3)(6) + 4 = 22

feature = ? # write your code here
print(feature)
label = ?   # write your code here
print(label)
     
  File "<ipython-input-9-cd0aaf9f220e>", line 1
    feature = ? # write your code here
              ^
SyntaxError: invalid syntax

#@title Double-click to see a possible solution to Task 1.
feature = np.arange(6, 21)
print(feature)
label = (feature * 3) + 4
print(label)
     
Opgave 2: Tilføj lidt støj til datasættet
For at gøre dit datasæt lidt mere realistisk, skal du indsætte lidt tilfældig støj i hvert element i det label-array, du allerede har oprettet. Præcist sagt, skal du ændre hver værdi, der er tildelt label, ved at tilføje en forskellig tilfældig decimalværdi mellem -2 og +2.

Stol ikke på broadcasting. Opret i stedet et noise-array med samme dimension som label.


noise = ?    # write your code here
print(noise)
label = ?    # write your code here
print(label)
     

#@title Double-click to see a possible solution to Task 2.

noise = (np.random.random([15]) * 4) - 2
print(noise)
label = label + noise
print(label)
